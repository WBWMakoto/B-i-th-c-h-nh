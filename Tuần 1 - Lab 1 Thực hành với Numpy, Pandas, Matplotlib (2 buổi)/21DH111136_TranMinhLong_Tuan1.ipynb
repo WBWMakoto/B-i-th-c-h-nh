{
 "cells": [
  {
   "cell_type": "markdown",
   "metadata": {
    "collapsed": false
   },
   "source": [
    "# **Lab 1 Thực hành với numpy, pandas, matplotlib \\(2 buổi\\)**\n",
    "\n"
   ]
  },
  {
   "cell_type": "markdown",
   "metadata": {
    "collapsed": false
   },
   "source": [
    "## <span style='color:#f44336'>**Câu 1: Khởi tạo mảng 1 chiều từ 4\\-10**</span>\n",
    "\n"
   ]
  },
  {
   "cell_type": "code",
   "execution_count": 1,
   "metadata": {
    "collapsed": false
   },
   "outputs": [
    {
     "name": "stdout",
     "output_type": "stream",
     "text": [
      "[ 4  5  6  7  8  9 10]\n"
     ]
    }
   ],
   "source": [
    "import numpy as np\n",
    "# Tạo list\n",
    "l = list(range(4, 11))\n",
    "\n",
    "# Tạo array\n",
    "data = np.array(l)\n",
    "\n",
    "print(data)"
   ]
  },
  {
   "cell_type": "markdown",
   "metadata": {
    "collapsed": false
   },
   "source": [
    "## <span style='color:#f44336'>**Câu 2: Tạo một mảng boolean 3x3 với tất cả giá true**</span>\n",
    "\n"
   ]
  },
  {
   "cell_type": "code",
   "execution_count": 2,
   "metadata": {
    "collapsed": false
   },
   "outputs": [
    {
     "name": "stdout",
     "output_type": "stream",
     "text": [
      "[[ True  True  True]\n",
      " [ True  True  True]\n",
      " [ True  True  True]]\n"
     ]
    }
   ],
   "source": [
    "import numpy as np\n",
    "\n",
    "# Tạo một mảng boolean 3x3 với tất cả giá trị là True\n",
    "data_science_array = np.full((3, 3), True, dtype=bool)\n",
    "\n",
    "print(data_science_array)"
   ]
  },
  {
   "cell_type": "markdown",
   "metadata": {
    "collapsed": false
   },
   "source": [
    "## <span style='color:#f44336'>**Câu 3: Lấy những phần tử mà thảo mãn một điều kiện cho trước của mảng 2 chiều**</span>\n",
    "\n",
    "## **\\- Số lẻ**\n",
    "\n",
    "## **\\- Số chẵn**\n",
    "\n",
    "## **\\- Bội số của 3**\n",
    "\n"
   ]
  },
  {
   "cell_type": "code",
   "execution_count": 4,
   "metadata": {
    "collapsed": false
   },
   "outputs": [
    {
     "name": "stdout",
     "output_type": "stream",
     "text": [
      "[1 3 5 7 9]\n",
      "[2 4 6 8]\n",
      "[3 6 9]\n"
     ]
    }
   ],
   "source": [
    "import numpy as np\n",
    "\n",
    "# Tạo array\n",
    "\n",
    "array_2d = np.array([[1, 2, 3], [4, 5, 6], [7, 8, 9]])\n",
    "\n",
    "# - Số lẻ\n",
    "odd_elements = array_2d[array_2d % 2 == 1]\n",
    "print(odd_elements)\n",
    "\n",
    "# - Số chẵn\n",
    "even_elements = array_2d[array_2d % 2 == 0]\n",
    "print(even_elements)\n",
    "\n",
    "# - Bội số của 3\n",
    "multiple_of_3 = array_2d[array_2d % 3 == 0]\n",
    "print(multiple_of_3)"
   ]
  },
  {
   "cell_type": "markdown",
   "metadata": {
    "collapsed": false
   },
   "source": [
    "## <span style='color:#f44336'>**Câu 4: Thay thế phần tử thoả mãn điều kiện cho trước bằng một giá trị khác**</span>\n",
    "\n"
   ]
  },
  {
   "cell_type": "code",
   "execution_count": 5,
   "metadata": {
    "collapsed": false
   },
   "outputs": [
    {
     "name": "stdout",
     "output_type": "stream",
     "text": [
      "[[ 1 -1  3]\n",
      " [-1  5 -1]\n",
      " [ 7 -1  9]]\n"
     ]
    }
   ],
   "source": [
    "# Giả sử có mảng 2 chiều như sau\n",
    "import numpy as np\n",
    "\n",
    "array_2d = np.array([[1, 2, 3], [4, 5, 6], [7, 8, 9]])\n",
    "\n",
    "# Xác định các vị trí của các số chẵn trong mảng\n",
    "even_indices = np.where(array_2d % 2 == 0)\n",
    "\n",
    "# Thay thế các số chẵn bằng giá trị -1\n",
    "array_2d[even_indices] = -1\n",
    "\n",
    "print(array_2d)"
   ]
  },
  {
   "cell_type": "markdown",
   "metadata": {
    "collapsed": false
   },
   "source": [
    "## <span style='color:#f44336'>**Câu 5: Chuyển định dạng \\(shape\\) của một ndarray. Chuyển mảng 1 chiều thành mảng 2 chiều**</span>\n",
    "\n"
   ]
  },
  {
   "cell_type": "code",
   "execution_count": 7,
   "metadata": {
    "collapsed": false
   },
   "outputs": [
    {
     "name": "stdout",
     "output_type": "stream",
     "text": [
      "[[1 2]\n",
      " [3 4]\n",
      " [5 6]]\n"
     ]
    }
   ],
   "source": [
    "# Giả sử có một mảng 1 chiều như sau:\n",
    "\n",
    "import numpy as np\n",
    "\n",
    "array_1d = np.array([1, 2, 3, 4, 5, 6])\n",
    "\n",
    "# Chuyển đổi mảng 1 chiều thành mảng 2 chiều (3x2) bằng hàm np.reshape()\n",
    "array_2d = np.reshape(array_1d, (3, 2))\n",
    "\n",
    "print(array_2d)"
   ]
  },
  {
   "cell_type": "markdown",
   "metadata": {
    "collapsed": false
   },
   "source": [
    "## <span style='color:#f44336'>**Câu 6: Xếp chồng 2 mảng theo chiều dọc, chiều n**</span>\n",
    "\n"
   ]
  },
  {
   "cell_type": "code",
   "execution_count": 3,
   "metadata": {
    "collapsed": false
   },
   "outputs": [
    {
     "name": "stdout",
     "output_type": "stream",
     "text": [
      "[[ 1  2  3]\n",
      " [ 4  5  6]\n",
      " [ 7  8  9]\n",
      " [10 11 12]]\n",
      "\n",
      "[[ 1  2  3  7  8  9]\n",
      " [ 4  5  6 10 11 12]]\n"
     ]
    }
   ],
   "source": [
    "import numpy as np\n",
    "\n",
    "# Tạo 2 mảng array\n",
    "\n",
    "array1 = np.array([[1, 2, 3],\n",
    "                   [4, 5, 6]])\n",
    "\n",
    "array2 = np.array([[7, 8, 9],\n",
    "                   [10, 11, 12]])\n",
    "\n",
    "# Xếp chồng array1 và array2 theo chiều dọc\n",
    "stacked_array = np.vstack((array1, array2))\n",
    "\n",
    "print(stacked_array)\n",
    "print(\"\")\n",
    "\n",
    "# Xếp chồng array1 và array2 theo chiều n\n",
    "stacked_array = np.concatenate((array1, array2), axis=1)\n",
    "\n",
    "print(stacked_array)\n"
   ]
  },
  {
   "cell_type": "markdown",
   "metadata": {
    "collapsed": false
   },
   "source": [
    "## <span style='color:#f44336'>**Câu 7: sử dụng repeat\\(\\) và tile\\(\\)**</span>\n",
    "\n"
   ]
  },
  {
   "cell_type": "code",
   "execution_count": 4,
   "metadata": {
    "collapsed": false
   },
   "outputs": [
    {
     "name": "stdout",
     "output_type": "stream",
     "text": [
      "[1 1 1 2 2 2 3 3 3]\n",
      "[[1 2 3 1 2 3 1 2 3]\n",
      " [1 2 3 1 2 3 1 2 3]]\n"
     ]
    }
   ],
   "source": [
    "import numpy as np\n",
    "\n",
    "# Tạo một mảng ban đầu\n",
    "original_array = np.array([1, 2, 3])\n",
    "\n",
    "# Lặp lại các phần tử 3 lần (hàm repeat)\n",
    "repeated_array = np.repeat(original_array, 3)\n",
    "\n",
    "print(repeated_array)\n",
    "\n",
    "# Lát (hàm tile) mảng 2 lần theo chiều dọc và 3 lần theo chiều ngang\n",
    "tiled_array = np.tile(original_array, (2, 3))\n",
    "\n",
    "print(tiled_array)"
   ]
  },
  {
   "cell_type": "markdown",
   "metadata": {
    "collapsed": false
   },
   "source": [
    "## <span style='color:#f44336'>**Câu 8: Tìm phần tử chung của 2 mảng**</span>\n",
    "\n"
   ]
  },
  {
   "cell_type": "code",
   "execution_count": 5,
   "metadata": {
    "collapsed": false
   },
   "outputs": [
    {
     "name": "stdout",
     "output_type": "stream",
     "text": [
      "[3 4 5]\n"
     ]
    }
   ],
   "source": [
    "import numpy as np\n",
    "\n",
    "# Tạo hai mảng NumPy\n",
    "array1 = np.array([1, 2, 3, 4, 5])\n",
    "array2 = np.array([3, 4, 5, 6, 7])\n",
    "\n",
    "# Tìm các phần tử chung\n",
    "common_elements = np.intersect1d(array1, array2)\n",
    "\n",
    "print(common_elements)\n"
   ]
  },
  {
   "cell_type": "markdown",
   "metadata": {
    "collapsed": false
   },
   "source": [
    "## <span style='color:#f44336'>**Câu 9: Xoá phần tử từ một mảng mà tồn tại trong mảng khác \\(setdiffld\\(\\)**</span>\n",
    "\n"
   ]
  },
  {
   "cell_type": "code",
   "execution_count": 0,
   "metadata": {
    "collapsed": false
   },
   "outputs": [
   ],
   "source": [
    "import numpy as np\n",
    "\n",
    "# Tạo hai mảng NumPy\n",
    "array1 = np.array([1, 2, 3, 4, 5])\n",
    "array2 = np.array([3, 4, 5, 6, 7])\n",
    "\n",
    "# Xoá các phần tử có trong array2 khỏi array1\n",
    "result_array = np.setdiff1d(array1, array2)\n",
    "\n",
    "print(result_array)\n"
   ]
  },
  {
   "cell_type": "markdown",
   "metadata": {
    "collapsed": false
   },
   "source": [
    "Câu 10: Tìm các vị trí giống nhau giữa 2 mảng\n"
   ]
  },
  {
   "cell_type": "code",
   "execution_count": 7,
   "metadata": {
    "collapsed": false
   },
   "outputs": [
    {
     "name": "stdout",
     "output_type": "stream",
     "text": [
      "(array([0]),)\n"
     ]
    }
   ],
   "source": [
    "import numpy as np\n",
    "\n",
    "# Tạo hai mảng NumPy\n",
    "array1 = np.array([1, 2, 3, 4, 5])\n",
    "array2 = np.array([1, 4, 5, 6, 7])\n",
    "\n",
    "# Tìm các vị trí giống nhau\n",
    "common_indices = np.where(array1 == array2)\n",
    "\n",
    "print(common_indices)\n"
   ]
  },
  {
   "cell_type": "markdown",
   "metadata": {
    "collapsed": false
   },
   "source": [
    "Câu 11: Tìm vị trí trong mảng dựa vào giá trị của mảng khác \n"
   ]
  },
  {
   "cell_type": "code",
   "execution_count": 2,
   "metadata": {
    "collapsed": false
   },
   "outputs": [
    {
     "name": "stdout",
     "output_type": "stream",
     "text": [
      "(array([2, 4]),)\n"
     ]
    }
   ],
   "source": [
    "import numpy as np\n",
    "\n",
    "# Tạo mảng NumPy và mảng giá trị cần tìm\n",
    "array1 = np.array([1, 2, 3, 4, 5])\n",
    "values_to_find = np.array([3, 5])\n",
    "\n",
    "# Tìm vị trí của các giá trị trong mảng1 mà tồn tại trong mảng values_to_find\n",
    "indices = np.where(np.isin(array1, values_to_find))\n",
    "\n",
    "print(indices)\n"
   ]
  },
  {
   "cell_type": "markdown",
   "metadata": {
    "collapsed": false
   },
   "source": [
    "Câu 12: Sử dụng np.vectorize\\(\\) cho bài toán\n"
   ]
  },
  {
   "cell_type": "code",
   "execution_count": 3,
   "metadata": {
    "collapsed": false
   },
   "outputs": [
    {
     "name": "stdout",
     "output_type": "stream",
     "text": [
      "[ 1  4  9 16 25]\n"
     ]
    }
   ],
   "source": [
    "import numpy as np\n",
    "\n",
    "# Định nghĩa hàm Python thông thường\n",
    "def my_function(x):\n",
    "    return x ** 2\n",
    "\n",
    "# Tạo một hàm NumPy từ hàm Python bằng cách sử dụng np.vectorize()\n",
    "vectorized_function = np.vectorize(my_function)\n",
    "\n",
    "# Tạo mảng NumPy\n",
    "array = np.array([1, 2, 3, 4, 5])\n",
    "\n",
    "# Áp dụng hàm vectorized_function cho mảng NumPy\n",
    "result_array = vectorized_function(array)\n",
    "\n",
    "print(result_array)\n"
   ]
  },
  {
   "cell_type": "markdown",
   "metadata": {
    "collapsed": false
   },
   "source": [
    "Câu 13: Hoán đổi các cột trong mảng 2 chiều\n"
   ]
  },
  {
   "cell_type": "code",
   "execution_count": 4,
   "metadata": {
    "collapsed": false
   },
   "outputs": [
    {
     "name": "stdout",
     "output_type": "stream",
     "text": [
      "[[2 1 3]\n",
      " [5 4 6]\n",
      " [8 7 9]]\n"
     ]
    }
   ],
   "source": [
    "import numpy as np\n",
    "\n",
    "# Tạo một mảng 2 chiều\n",
    "array_2d = np.array([[1, 2, 3],\n",
    "                     [4, 5, 6],\n",
    "                     [7, 8, 9]])\n",
    "\n",
    "# Hoán đổi cột 0 và cột 1\n",
    "array_2d[:, [0, 1]] = array_2d[:, [1, 0]]\n",
    "\n",
    "print(array_2d)\n"
   ]
  },
  {
   "cell_type": "markdown",
   "metadata": {
    "collapsed": false
   },
   "source": [
    "Câu 14: Đảo ngược các phần tử của cột/hàng trong mảng 2 chiều\n"
   ]
  },
  {
   "cell_type": "code",
   "execution_count": 3,
   "metadata": {
    "collapsed": false
   },
   "outputs": [
    {
     "name": "stdout",
     "output_type": "stream",
     "text": [
      "[[1 2 3]\n",
      " [6 5 4]\n",
      " [7 8 9]]\n",
      "\n",
      "[[1 8 3]\n",
      " [6 5 4]\n",
      " [7 2 9]]\n"
     ]
    }
   ],
   "source": [
    "import numpy as np\n",
    "\n",
    "# Tạo một mảng 2 chiều\n",
    "array_2d = np.array([[1, 2, 3], [4, 5, 6], [7, 8, 9]])\n",
    "\n",
    "# Đảo ngược các phần tử của hàng thứ 1\n",
    "array_2d[1, :] = array_2d[1, ::-1]\n",
    "\n",
    "print(array_2d)\n",
    "print()\n",
    "# Đảo ngược các phần tử của cột thứ 1\n",
    "array_2d[:, 1] = array_2d[::-1, 1]\n",
    "\n",
    "print(array_2d)"
   ]
  },
  {
   "cell_type": "markdown",
   "metadata": {
    "collapsed": false
   },
   "source": [
    "Câu 15: Tạo mảng 2 chiều chứa số\n"
   ]
  },
  {
   "cell_type": "code",
   "execution_count": 1,
   "metadata": {
    "collapsed": false
   },
   "outputs": [
    {
     "name": "stdout",
     "output_type": "stream",
     "text": [
      "[[1 2 3]\n",
      " [4 5 6]\n",
      " [7 8 9]]\n"
     ]
    }
   ],
   "source": [
    "import numpy as np\n",
    "\n",
    "# Tạo mảng 1 chiều chứa các số từ 1 đến 9\n",
    "array_1d = np.arange(1, 10)\n",
    "\n",
    "# Chuyển đổi thành mảng 2 chiều, ví dụ 3x3\n",
    "array_2d = array_1d.reshape(3, 3)\n",
    "\n",
    "print(array_2d)\n"
   ]
  },
  {
   "cell_type": "markdown",
   "metadata": {
    "collapsed": false
   },
   "source": [
    "Bài tập 2\n"
   ]
  },
  {
   "cell_type": "markdown",
   "metadata": {
    "collapsed": false
   },
   "source": [
    "Câu 1: Đọc dữ liệu với file chipotle.csv\n"
   ]
  },
  {
   "cell_type": "code",
   "execution_count": 3,
   "metadata": {
    "collapsed": false
   },
   "outputs": [
   ],
   "source": [
    "import pandas as pd\n",
    "\n",
    "# Đọc dữ liệu từ file CSV và lưu vào một DataFrame\n",
    "df = pd.read_csv('chipotle.csv')\n",
    "\n",
    "\n"
   ]
  },
  {
   "cell_type": "markdown",
   "metadata": {
    "collapsed": false
   },
   "source": [
    "Câu 2 In ra màn hình\n"
   ]
  },
  {
   "cell_type": "code",
   "execution_count": 3,
   "metadata": {
    "collapsed": false
   },
   "outputs": [
    {
     "name": "stdout",
     "output_type": "stream",
     "text": [
      "      order_id  quantity                              item_name  \\\n",
      "0            1         1           Chips and Fresh Tomato Salsa   \n",
      "1            1         1                                   Izze   \n",
      "2            1         1                       Nantucket Nectar   \n",
      "3            1         1  Chips and Tomatillo-Green Chili Salsa   \n",
      "4            2         2                           Chicken Bowl   \n",
      "...        ...       ...                                    ...   \n",
      "4617      1833         1                          Steak Burrito   \n",
      "4618      1833         1                          Steak Burrito   \n",
      "4619      1834         1                     Chicken Salad Bowl   \n",
      "4620      1834         1                     Chicken Salad Bowl   \n",
      "4621      1834         1                     Chicken Salad Bowl   \n",
      "\n",
      "                                     choice_description item_price  \n",
      "0                                                   NaN     $2.39   \n",
      "1                                          [Clementine]     $3.39   \n",
      "2                                               [Apple]     $3.39   \n",
      "3                                                   NaN     $2.39   \n",
      "4     [Tomatillo-Red Chili Salsa (Hot), [Black Beans...    $16.98   \n",
      "...                                                 ...        ...  \n",
      "4617  [Fresh Tomato Salsa, [Rice, Black Beans, Sour ...    $11.75   \n",
      "4618  [Fresh Tomato Salsa, [Rice, Sour Cream, Cheese...    $11.75   \n",
      "4619  [Fresh Tomato Salsa, [Fajita Vegetables, Pinto...    $11.25   \n",
      "4620  [Fresh Tomato Salsa, [Fajita Vegetables, Lettu...     $8.75   \n",
      "4621  [Fresh Tomato Salsa, [Fajita Vegetables, Pinto...     $8.75   \n",
      "\n",
      "[4622 rows x 5 columns]\n"
     ]
    }
   ],
   "source": [
    "print(df)"
   ]
  },
  {
   "cell_type": "markdown",
   "metadata": {
    "collapsed": false
   },
   "source": [
    "Câu 3: In 10 dòng đầu tiên của dữ liệu\n"
   ]
  },
  {
   "cell_type": "code",
   "execution_count": 4,
   "metadata": {
    "collapsed": false
   },
   "outputs": [
    {
     "name": "stdout",
     "output_type": "stream",
     "text": [
      "   order_id  quantity                              item_name  \\\n",
      "0         1         1           Chips and Fresh Tomato Salsa   \n",
      "1         1         1                                   Izze   \n",
      "2         1         1                       Nantucket Nectar   \n",
      "3         1         1  Chips and Tomatillo-Green Chili Salsa   \n",
      "4         2         2                           Chicken Bowl   \n",
      "5         3         1                           Chicken Bowl   \n",
      "6         3         1                          Side of Chips   \n",
      "7         4         1                          Steak Burrito   \n",
      "8         4         1                       Steak Soft Tacos   \n",
      "9         5         1                          Steak Burrito   \n",
      "\n",
      "                                  choice_description item_price  \n",
      "0                                                NaN     $2.39   \n",
      "1                                       [Clementine]     $3.39   \n",
      "2                                            [Apple]     $3.39   \n",
      "3                                                NaN     $2.39   \n",
      "4  [Tomatillo-Red Chili Salsa (Hot), [Black Beans...    $16.98   \n",
      "5  [Fresh Tomato Salsa (Mild), [Rice, Cheese, Sou...    $10.98   \n",
      "6                                                NaN     $1.69   \n",
      "7  [Tomatillo Red Chili Salsa, [Fajita Vegetables...    $11.75   \n",
      "8  [Tomatillo Green Chili Salsa, [Pinto Beans, Ch...     $9.25   \n",
      "9  [Fresh Tomato Salsa, [Rice, Black Beans, Pinto...     $9.25   \n"
     ]
    }
   ],
   "source": [
    "print(df.head(10))"
   ]
  },
  {
   "cell_type": "markdown",
   "metadata": {
    "collapsed": false
   },
   "source": [
    "Câu 4: in số lượng cột\n"
   ]
  },
  {
   "cell_type": "code",
   "execution_count": 5,
   "metadata": {
    "collapsed": false
   },
   "outputs": [
    {
     "name": "stdout",
     "output_type": "stream",
     "text": [
      "Số lượng cột: 5\n"
     ]
    }
   ],
   "source": [
    "num_columns = len(df.columns)\n",
    "print(\"Số lượng cột:\", num_columns)"
   ]
  },
  {
   "cell_type": "markdown",
   "metadata": {
    "collapsed": false
   },
   "source": [
    "Câu 5: in tên của tất cả các cột\n"
   ]
  },
  {
   "cell_type": "code",
   "execution_count": 6,
   "metadata": {
    "collapsed": false
   },
   "outputs": [
    {
     "name": "stdout",
     "output_type": "stream",
     "text": [
      "Tên của các cột: ['order_id', 'quantity', 'item_name', 'choice_description', 'item_price']\n"
     ]
    }
   ],
   "source": [
    "column_names = df.columns.tolist()\n",
    "print(\"Tên của các cột:\", column_names)"
   ]
  },
  {
   "cell_type": "markdown",
   "metadata": {
    "collapsed": false
   },
   "source": [
    "Câu 6: Tập dữ liệu được lập chỉ mục như thế nào?\n",
    "\n",
    "Tập dữ liệu mặc định được lập chỉ mục từ 0 đến N\\-1, trong đó N là số hàng trong tập dữ liệu. Một cột chỉ mục được thêm vào tự động khi bạn đọc tập dữ liệu bằng pandas.\n"
   ]
  },
  {
   "cell_type": "markdown",
   "metadata": {
    "collapsed": false
   },
   "source": [
    "Câu 7: Mặt hàng nào mua nhiều nhất?\n"
   ]
  },
  {
   "cell_type": "code",
   "execution_count": 7,
   "metadata": {
    "collapsed": false
   },
   "outputs": [
    {
     "name": "stdout",
     "output_type": "stream",
     "text": [
      "Mặt hàng được mua nhiều nhất: Chicken Bowl\n"
     ]
    }
   ],
   "source": [
    "most_ordered_item = df['item_name'].mode()[0]\n",
    "print(\"Mặt hàng được mua nhiều nhất:\", most_ordered_item)\n"
   ]
  },
  {
   "cell_type": "markdown",
   "metadata": {
    "collapsed": false
   },
   "source": [
    "Câu 8: Đối với mặt hàng được đặt hàng nhiều nhất, có bao nhiêu mặt hàng đã được đặt hàng?\n"
   ]
  },
  {
   "cell_type": "code",
   "execution_count": 8,
   "metadata": {
    "collapsed": false
   },
   "outputs": [
    {
     "name": "stdout",
     "output_type": "stream",
     "text": [
      "Số lượng mặt hàng đã được đặt hàng: 761\n"
     ]
    }
   ],
   "source": [
    "most_ordered_item_quantity = df[df['item_name'] == most_ordered_item]['quantity'].sum()\n",
    "print(\"Số lượng mặt hàng đã được đặt hàng:\", most_ordered_item_quantity)\n"
   ]
  },
  {
   "cell_type": "markdown",
   "metadata": {
    "collapsed": false
   },
   "source": [
    "Câu 9: Mặt hàng nào được đặt nhiều nhất trong cột choice\\_description?\n",
    "\n"
   ]
  },
  {
   "cell_type": "code",
   "execution_count": 9,
   "metadata": {
    "collapsed": false
   },
   "outputs": [
    {
     "name": "stdout",
     "output_type": "stream",
     "text": [
      "Mặt hàng được đặt nhiều nhất trong cột choice_description: [Diet Coke]\n"
     ]
    }
   ],
   "source": [
    "most_ordered_choice = df['choice_description'].mode()[0]\n",
    "print(\"Mặt hàng được đặt nhiều nhất trong cột choice_description:\", most_ordered_choice)"
   ]
  },
  {
   "cell_type": "markdown",
   "metadata": {
    "collapsed": false
   },
   "source": [
    "Câu 10: Có tổng cộng bao nhiêu mặt hàng đã được đặt?\n"
   ]
  },
  {
   "cell_type": "code",
   "execution_count": 4,
   "metadata": {
    "collapsed": false
   },
   "outputs": [
    {
     "name": "stdout",
     "output_type": "stream",
     "text": [
      "Tổng số mặt hàng đã được đặt: 4972\n"
     ]
    }
   ],
   "source": [
    "total_items_ordered = df['quantity'].sum()\n",
    "print(\"Tổng số mặt hàng đã được đặt:\", total_items_ordered)\n"
   ]
  },
  {
   "cell_type": "markdown",
   "metadata": {
    "collapsed": false
   },
   "source": [
    "Câu 11: Tính tổng doanh thu\n"
   ]
  },
  {
   "cell_type": "code",
   "execution_count": 5,
   "metadata": {
    "collapsed": false
   },
   "outputs": [
    {
     "name": "stdout",
     "output_type": "stream",
     "text": [
      "Tổng doanh thu: 39237.02\n"
     ]
    }
   ],
   "source": [
    "df['item_price'] = df['item_price'].str.replace('$', '').astype(float)\n",
    "total_revenue = (df['quantity'] * df['item_price']).sum()\n",
    "print(\"Tổng doanh thu:\", total_revenue)\n"
   ]
  },
  {
   "cell_type": "markdown",
   "metadata": {
    "collapsed": false
   },
   "source": [
    "Câu 12: Tổng số đơn hàng\n"
   ]
  },
  {
   "cell_type": "code",
   "execution_count": 6,
   "metadata": {
    "collapsed": false
   },
   "outputs": [
    {
     "name": "stdout",
     "output_type": "stream",
     "text": [
      "Tổng số đơn hàng: 1834\n"
     ]
    }
   ],
   "source": [
    "total_orders = df['order_id'].nunique()\n",
    "print(\"Tổng số đơn hàng:\", total_orders)\n"
   ]
  },
  {
   "cell_type": "markdown",
   "metadata": {
    "collapsed": false
   },
   "source": [
    "Câu 13: Số tiền doanh thu trung bình trên mỗi đơn hàng là bao nhiêu?\n"
   ]
  },
  {
   "cell_type": "code",
   "execution_count": 7,
   "metadata": {
    "collapsed": false
   },
   "outputs": [
    {
     "name": "stdout",
     "output_type": "stream",
     "text": [
      "Số tiền doanh thu trung bình trên mỗi đơn hàng: 21.39423118865867\n"
     ]
    }
   ],
   "source": [
    "average_revenue_per_order = total_revenue / total_orders\n",
    "print(\"Số tiền doanh thu trung bình trên mỗi đơn hàng:\", average_revenue_per_order)\n"
   ]
  },
  {
   "cell_type": "markdown",
   "metadata": {
    "collapsed": false
   },
   "source": [
    "Câu 14: Có bao nhiêu mặt hàng khác nhau được bán?\n"
   ]
  },
  {
   "cell_type": "code",
   "execution_count": 8,
   "metadata": {
    "collapsed": false
   },
   "outputs": [
    {
     "name": "stdout",
     "output_type": "stream",
     "text": [
      "Số lượng mặt hàng khác nhau được bán: 50\n"
     ]
    }
   ],
   "source": [
    "unique_items = df['item_name'].nunique()\n",
    "print(\"Số lượng mặt hàng khác nhau được bán:\", unique_items)\n"
   ]
  },
  {
   "cell_type": "markdown",
   "metadata": {
    "collapsed": false
   },
   "source": [
    "Trực quan hoá dữ liệu:\n",
    "\n",
    "Với dữ liêụ chipoltle.csv\n",
    "\n"
   ]
  },
  {
   "cell_type": "markdown",
   "metadata": {
    "collapsed": false
   },
   "source": [
    "Câu 1: Tạo biểu đồ cột của 5 mặt hàng được mua nhiều nhất\n"
   ]
  },
  {
   "cell_type": "code",
   "execution_count": 9,
   "metadata": {
    "collapsed": false
   },
   "outputs": [
    {
     "data": {
      "image/png": "[encoded data removed]",
      "text/plain": [
       "<Figure size 864x504 with 1 Axes>"
      ]
     },
     "execution_count": 9,
     "metadata": {
      "image/png": {
       "height": 542,
       "width": 724
      },
      "needs_background": "light"
     },
     "output_type": "execute_result"
    }
   ],
   "source": [
    "import matplotlib.pyplot as plt\n",
    "\n",
    "top_5_items = df['item_name'].value_counts().head(5)\n",
    "top_5_items.plot(kind='bar')\n",
    "plt.xlabel('Tên mặt hàng')\n",
    "plt.ylabel('Số lượng')\n",
    "plt.title('Top 5 mặt hàng được mua nhiều nhất')\n",
    "plt.show()\n"
   ]
  },
  {
   "cell_type": "markdown",
   "metadata": {
    "collapsed": false
   },
   "source": [
    "Câu 2: Tạo một biểu đồ phân tán \\(Scatter\\) với số lượng mặt hàng được đặt hàng trên mỗi giá đặt hàng\n"
   ]
  },
  {
   "cell_type": "code",
   "execution_count": 10,
   "metadata": {
    "collapsed": false
   },
   "outputs": [
    {
     "data": {
      "image/png": "[encoded data removed]",
      "text/plain": [
       "<Figure size 864x504 with 1 Axes>"
      ]
     },
     "execution_count": 10,
     "metadata": {
      "image/png": {
       "height": 442,
       "width": 718
      },
      "needs_background": "light"
     },
     "output_type": "execute_result"
    }
   ],
   "source": [
    "plt.scatter(df['item_price'], df['quantity'], alpha=0.5)\n",
    "plt.xlabel('Giá đặt hàng')\n",
    "plt.ylabel('Số lượng')\n",
    "plt.title('Biểu đồ phân tán giữa giá đặt hàng và số lượng')\n",
    "plt.show()\n"
   ]
  },
  {
   "cell_type": "markdown",
   "metadata": {
    "collapsed": false
   },
   "source": [
    "Bài tập 3: Chuẩn hoá dữ liệu cho tập dữ liệu với tập dữ liệu “Thu nhập trên 50K”\n"
   ]
  },
  {
   "cell_type": "code",
   "execution_count": 16,
   "metadata": {
    "collapsed": false
   },
   "outputs": [
   ],
   "source": [
    "import pandas as pd\n",
    "\n",
    "# Đọc dữ liệu từ tệp adult.data.csv\n",
    "data = pd.read_csv('adult.data.csv', header=None)\n",
    "\n",
    "# Đặt tên cho các cột\n",
    "data.columns = ['age', 'workclass', 'fnlwgt', 'education', 'education-num', 'marital-status', 'occupation',\n",
    "                'relationship', 'race', 'sex', 'capital-gain', 'capital-loss', 'hours-per-week',\n",
    "                'native-country', 'income']\n",
    "# Mã hóa dữ liệu chuỗi\n",
    "data['workclass'] = data['workclass'].astype('category').cat.codes\n",
    "data['education'] = data['education'].astype('category').cat.codes\n",
    "data['marital-status'] = data['marital-status'].astype('category').cat.codes\n",
    "data['occupation'] = data['occupation'].astype('category').cat.codes\n",
    "data['relationship'] = data['relationship'].astype('category').cat.codes\n",
    "data['race'] = data['race'].astype('category').cat.codes\n",
    "data['sex'] = data['sex'].astype('category').cat.codes\n",
    "data['native-country'] = data['native-country'].astype('category').cat.codes\n",
    "# Mã hóa cột mục tiêu\n",
    "data['income'] = data['income'].map(lambda x: 1 if x.strip() == '>50K' else 0)\n",
    "from sklearn.preprocessing import StandardScaler\n",
    "\n",
    "scaler = StandardScaler()\n",
    "data[['age', 'fnlwgt', 'education-num', 'capital-gain', 'capital-loss', 'hours-per-week']] = scaler.fit_transform(data[['age', 'fnlwgt', 'education-num', 'capital-gain', 'capital-loss', 'hours-per-week']])\n",
    "\n",
    "data.to_csv('adult_data_cleaned.csv', index=False)\n"
   ]
  },
  {
   "cell_type": "code",
   "execution_count": 0,
   "metadata": {
    "collapsed": false
   },
   "outputs": [
   ],
   "source": [
   ]
  }
 ],
 "metadata": {
  "kernelspec": {
   "argv": [
    "/usr/bin/python3",
    "-m",
    "ipykernel",
    "--HistoryManager.enabled=False",
    "--matplotlib=inline",
    "-c",
    "%config InlineBackend.figure_formats = set(['retina'])\nimport matplotlib; matplotlib.rcParams['figure.figsize'] = (12, 7)",
    "-f",
    "{connection_file}"
   ],
   "display_name": "Python 3 (system-wide)",
   "env": {
   },
   "language": "python",
   "metadata": {
    "cocalc": {
     "description": "Python 3 programming language",
     "priority": 100,
     "url": "https://www.python.org/"
    }
   },
   "name": "python3",
   "resource_dir": "/ext/jupyter/kernels/python3"
  },
  "language_info": {
   "codemirror_mode": {
    "name": "ipython",
    "version": 3
   },
   "file_extension": ".py",
   "mimetype": "text/x-python",
   "name": "python",
   "nbconvert_exporter": "python",
   "pygments_lexer": "ipython3",
   "version": "3.10.12"
  }
 },
 "nbformat": 4,
 "nbformat_minor": 4
}