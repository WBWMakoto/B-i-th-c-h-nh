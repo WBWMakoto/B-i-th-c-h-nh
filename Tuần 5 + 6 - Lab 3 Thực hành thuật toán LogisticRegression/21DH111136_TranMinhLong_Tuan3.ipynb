{
 "cells": [
  {
   "cell_type": "markdown",
   "metadata": {
    "collapsed": false
   },
   "source": [
    "<span style='color:#00bcd4'>**Bài 3: Áp dụng thuật toán LogisticRegression dự đoán tiểu đường thông qua dữ liệu** </span>\n",
    "\n",
    "<span style='color:#f44336'>Tóm tắt bài làm:</span><span style='color:#00bcd4'> </span>\n",
    "\n",
    "- Bài làm sẽ xây dựng mô hình và dự đoán độ chính xác,... về mô hình đó\n",
    "- Tạo 1 trường hợp với chỉ số ngẫu nhiên và test\n",
    "- Test ngẫu nhiên 30 trường hợp có trong tập dữ liệu chung\n",
    "\n"
   ]
  },
  {
   "cell_type": "code",
   "execution_count": 2,
   "metadata": {
    "collapsed": false
   },
   "outputs": [
   ],
   "source": [
    "import pandas as pd\n",
    "import numpy as np\n",
    "import matplotlib.pyplot as plt\n",
    "from sklearn.model_selection import train_test_split\n",
    "from sklearn.preprocessing import StandardScaler\n",
    "from sklearn.linear_model import LogisticRegression\n",
    "from sklearn.metrics import accuracy_score, confusion_matrix, classification_report\n"
   ]
  },
  {
   "cell_type": "code",
   "execution_count": 0,
   "metadata": {
    "collapsed": false
   },
   "outputs": [
   ],
   "source": [
    "df = pd.read_csv('diabetes.csv', header=0)\n",
    "df"
   ]
  },
  {
   "cell_type": "code",
   "execution_count": 0,
   "metadata": {
    "collapsed": false
   },
   "outputs": [
   ],
   "source": [
    "print(df.head())  \n"
   ]
  },
  {
   "cell_type": "code",
   "execution_count": 0,
   "metadata": {
    "collapsed": false
   },
   "outputs": [
   ],
   "source": [
    "print(df.info())  \n"
   ]
  },
  {
   "cell_type": "code",
   "execution_count": 0,
   "metadata": {
    "collapsed": false
   },
   "outputs": [
   ],
   "source": [
    "print(df.describe()) "
   ]
  },
  {
   "cell_type": "code",
   "execution_count": 0,
   "metadata": {
    "collapsed": false
   },
   "outputs": [
   ],
   "source": [
    "X = df.drop('Outcome', axis=1)\n",
    "y = df['Outcome']"
   ]
  },
  {
   "cell_type": "code",
   "execution_count": 0,
   "metadata": {
    "collapsed": false
   },
   "outputs": [
   ],
   "source": [
    "X_train, X_test, y_train, y_test = train_test_split(X, y, test_size=0.2, random_state=42)"
   ]
  },
  {
   "cell_type": "code",
   "execution_count": 0,
   "metadata": {
    "collapsed": false
   },
   "outputs": [
   ],
   "source": [
    "scaler = StandardScaler()\n",
    "X_train = scaler.fit_transform(X_train)\n",
    "X_test = scaler.transform(X_test)"
   ]
  },
  {
   "cell_type": "code",
   "execution_count": 0,
   "metadata": {
    "collapsed": false
   },
   "outputs": [
   ],
   "source": [
    "model = LogisticRegression()\n",
    "model.fit(X_train, y_train)"
   ]
  },
  {
   "cell_type": "code",
   "execution_count": 0,
   "metadata": {
    "collapsed": false
   },
   "outputs": [
   ],
   "source": [
    "y_pred = model.predict(X_test)"
   ]
  },
  {
   "cell_type": "code",
   "execution_count": 0,
   "metadata": {
    "collapsed": false
   },
   "outputs": [
   ],
   "source": [
    "accuracy = accuracy_score(y_test, y_pred)\n",
    "print(f'Accuracy: {accuracy:.2f}')\n",
    "\n",
    "conf_matrix = confusion_matrix(y_test, y_pred)\n",
    "print('Confusion Matrix:')\n",
    "print(conf_matrix)\n",
    "\n",
    "class_report = classification_report(y_test, y_pred)\n",
    "print('Classification Report:')\n",
    "print(class_report)\n"
   ]
  },
  {
   "cell_type": "code",
   "execution_count": 0,
   "metadata": {
    "collapsed": false
   },
   "outputs": [
   ],
   "source": [
    "# Create a DataFrame with feature names\n",
    "new_data = pd.DataFrame(data=np.array([2, 90, 72, 18, 0, 26.5, 0.187, 25]).reshape(1, -1), columns=df.columns[:-1])\n",
    "\n",
    "# Use the scaler to transform the new data\n",
    "new_data_scaled = scaler.transform(new_data)\n",
    "\n",
    "# Predict the outcome\n",
    "prediction = model.predict(new_data_scaled)\n",
    "\n",
    "# Get the probability of being diabetic (class 1)\n",
    "probabilities = model.predict_proba(new_data_scaled)\n",
    "\n",
    "# Interpret the result\n",
    "predicted_class = \"Diabetic\" if prediction[0] == 1 else \"Non-Diabetic\"\n",
    "\n",
    "# Print the result and probabilities\n",
    "print(f'Predicted Outcome: {predicted_class}')\n",
    "print(f'Probability of being Diabetic: {probabilities[0, 1]:.2f}')\n",
    "print(f'Probability of being Non-Diabetic: {probabilities[0, 0]:.2f}')\n",
    "\n",
    "# Additionally, you can provide interpretations based on probability thresholds.\n",
    "threshold = 0.5  # You can adjust this threshold as needed\n",
    "if probabilities[0, 1] > threshold:\n",
    "    print(f'Based on the threshold of {threshold}, it is likely Diabetic.')\n",
    "else:\n",
    "    print(f'Based on the threshold of {threshold}, it is likely Non-Diabetic.')\n",
    "\n",
    "\n"
   ]
  },
  {
   "cell_type": "code",
   "execution_count": 0,
   "metadata": {
    "collapsed": false
   },
   "outputs": [
   ],
   "source": [
    "# Select the indices of the 30 cases you want to predict\n",
    "indices_to_predict = [1, 5, 10, 15, 20, 25, 30, 35, 40, 45, 50, 55, 60, 65, 70, 75, 80, 85, 90, 95, 100, 105, 110, 115, 120, 125, 130, 135, 140, 145]\n",
    "\n",
    "# Use \"for index, row in df.iterrows():\" for predicts all\n",
    "# Initialize an empty list to store detailed predictions\n",
    "detailed_predictions = []\n",
    "\n",
    "# Iterate through the selected cases\n",
    "for index in indices_to_predict:\n",
    "    # Extract the features for the current row and drop the target column\n",
    "    features = df.drop(columns='Outcome').loc[index].values.reshape(1, -1)\n",
    "    \n",
    "    # Use the scaler to transform the data\n",
    "    features_scaled = scaler.transform(features)\n",
    "    \n",
    "    # Predict the outcome\n",
    "    prediction = model.predict(features_scaled)\n",
    "    \n",
    "    # Get the probability of being diabetic (class 1)\n",
    "    probabilities = model.predict_proba(features_scaled)\n",
    "    \n",
    "    # Interpret the result\n",
    "    predicted_class = \"Diabetic\" if prediction[0] == 1 else \"Non-Diabetic\"\n",
    "    \n",
    "    # Create a detailed prediction report for the current case\n",
    "    detailed_prediction = {\n",
    "        \"Index\": index,\n",
    "        \"Features\": df.loc[index].values[:-1],  # Excluding the target column\n",
    "        \"Predicted Outcome\": predicted_class,\n",
    "        \"Probability of being Diabetic\": probabilities[0, 1],\n",
    "        \"Probability of being Non-Diabetic\": probabilities[0, 0]\n",
    "    }\n",
    "    \n",
    "    # Add the detailed prediction to the list\n",
    "    detailed_predictions.append(detailed_prediction)\n",
    "\n",
    "# Convert the list of detailed predictions to a DataFrame\n",
    "detailed_predictions_df = pd.DataFrame(detailed_predictions)\n",
    "\n",
    "# Code if want to save the detailed predictions to a CSV file (optional)\n",
    "# detailed_predictions_df.to_csv('detailed_predictions.csv', index=False)\n",
    "\n",
    "# Print the detailed predictions\n",
    "print(detailed_predictions_df)\n"
   ]
  },
  {
   "cell_type": "code",
   "execution_count": 0,
   "metadata": {
    "collapsed": false
   },
   "outputs": [
   ],
   "source": [
   ]
  }
 ],
 "metadata": {
  "kernelspec": {
   "argv": [
    "/usr/bin/python3",
    "-m",
    "ipykernel",
    "--HistoryManager.enabled=False",
    "--matplotlib=inline",
    "-c",
    "%config InlineBackend.figure_formats = set(['retina'])\nimport matplotlib; matplotlib.rcParams['figure.figsize'] = (12, 7)",
    "-f",
    "{connection_file}"
   ],
   "display_name": "Python 3 (system-wide)",
   "env": {
   },
   "language": "python",
   "metadata": {
    "cocalc": {
     "description": "Python 3 programming language",
     "priority": 100,
     "url": "https://www.python.org/"
    }
   },
   "name": "python3",
   "resource_dir": "/ext/jupyter/kernels/python3"
  },
  "language_info": {
   "codemirror_mode": {
    "name": "ipython",
    "version": 3
   },
   "file_extension": ".py",
   "mimetype": "text/x-python",
   "name": "python",
   "nbconvert_exporter": "python",
   "pygments_lexer": "ipython3",
   "version": "3.10.12"
  }
 },
 "nbformat": 4,
 "nbformat_minor": 4
}